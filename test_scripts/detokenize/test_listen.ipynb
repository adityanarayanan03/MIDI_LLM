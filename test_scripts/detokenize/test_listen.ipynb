{
 "cells": [
  {
   "cell_type": "code",
   "execution_count": 27,
   "metadata": {},
   "outputs": [],
   "source": [
    "from midi_llm import MIDI_Dataset\n",
    "from miditok import Structured, TSD, MIDILike, TokenizerConfig\n",
    "from miditoolkit import MidiFile\n",
    "from miditok.classes import TokSequence\n",
    "\n",
    "config = TokenizerConfig()\n",
    "tokenizer = MIDILike(config)\n",
    "\n",
    "midi = MidiFile(\"../../bach/cellosui/01allema.mid\")"
   ]
  },
  {
   "cell_type": "code",
   "execution_count": 28,
   "metadata": {},
   "outputs": [
    {
     "name": "stdout",
     "output_type": "stream",
     "text": [
      "<class 'miditok.classes.TokSequence'>\n"
     ]
    }
   ],
   "source": [
    "tokenized = tokenizer(midi)\n",
    "print(type(x := tokenized[0]))\n",
    "\n",
    "ids = x.ids"
   ]
  },
  {
   "cell_type": "code",
   "execution_count": 29,
   "metadata": {},
   "outputs": [],
   "source": [
    "ts = TokSequence()\n",
    "ts.ids = ids\n",
    "\n",
    "#print(f\"Before, tok sequence is {ts}\")\n",
    "tokenizer.complete_sequence(ts)"
   ]
  },
  {
   "cell_type": "code",
   "execution_count": 30,
   "metadata": {},
   "outputs": [],
   "source": [
    "midi_out = tokenizer([ts])"
   ]
  },
  {
   "cell_type": "code",
   "execution_count": 31,
   "metadata": {},
   "outputs": [],
   "source": [
    "#listen to the original midi file\n",
    "from midi_llm import MIDI_Player\n",
    "midi_player = MIDI_Player()"
   ]
  },
  {
   "cell_type": "code",
   "execution_count": 22,
   "metadata": {},
   "outputs": [
    {
     "name": "stdout",
     "output_type": "stream",
     "text": [
      "Playing MIDI file: ../../bach/cellosui/01allema.mid\n"
     ]
    },
    {
     "ename": "KeyboardInterrupt",
     "evalue": "",
     "output_type": "error",
     "traceback": [
      "\u001b[0;31m---------------------------------------------------------------------------\u001b[0m",
      "\u001b[0;31mKeyboardInterrupt\u001b[0m                         Traceback (most recent call last)",
      "\u001b[1;32m/Users/aditya/Documents/repos/ut/MIDI_LLM/test_scripts/detokenize/test_listen.ipynb Cell 6\u001b[0m line \u001b[0;36m1\n\u001b[0;32m----> <a href='vscode-notebook-cell:/Users/aditya/Documents/repos/ut/MIDI_LLM/test_scripts/detokenize/test_listen.ipynb#X10sZmlsZQ%3D%3D?line=0'>1</a>\u001b[0m midi_player\u001b[39m.\u001b[39;49mplay_midi(\u001b[39m\"\u001b[39;49m\u001b[39m../../bach/cellosui/01allema.mid\u001b[39;49m\u001b[39m\"\u001b[39;49m)\n",
      "File \u001b[0;32m~/Documents/repos/ut/MIDI_LLM/midi_llm/midi_player.py:23\u001b[0m, in \u001b[0;36mMIDI_Player.play_midi\u001b[0;34m(self, file_path)\u001b[0m\n\u001b[1;32m     21\u001b[0m     pygame\u001b[39m.\u001b[39mmixer\u001b[39m.\u001b[39mmusic\u001b[39m.\u001b[39mplay()\n\u001b[1;32m     22\u001b[0m     \u001b[39mwhile\u001b[39;00m pygame\u001b[39m.\u001b[39mmixer\u001b[39m.\u001b[39mmusic\u001b[39m.\u001b[39mget_busy():\n\u001b[0;32m---> 23\u001b[0m         time\u001b[39m.\u001b[39;49msleep(\u001b[39m1\u001b[39;49m)\n\u001b[1;32m     25\u001b[0m \u001b[39mexcept\u001b[39;00m pygame\u001b[39m.\u001b[39merror \u001b[39mas\u001b[39;00m e:\n\u001b[1;32m     26\u001b[0m     \u001b[39mprint\u001b[39m(\u001b[39mf\u001b[39m\u001b[39m\"\u001b[39m\u001b[39mError playing MIDI file: \u001b[39m\u001b[39m{\u001b[39;00me\u001b[39m}\u001b[39;00m\u001b[39m\"\u001b[39m)\n",
      "\u001b[0;31mKeyboardInterrupt\u001b[0m: "
     ]
    }
   ],
   "source": [
    "midi_player.play_midi(\"../../bach/cellosui/01allema.mid\")"
   ]
  },
  {
   "cell_type": "code",
   "execution_count": 32,
   "metadata": {},
   "outputs": [
    {
     "name": "stdout",
     "output_type": "stream",
     "text": [
      "Playing MIDI file: temp.mid\n"
     ]
    },
    {
     "ename": "KeyboardInterrupt",
     "evalue": "",
     "output_type": "error",
     "traceback": [
      "\u001b[0;31m---------------------------------------------------------------------------\u001b[0m",
      "\u001b[0;31mKeyboardInterrupt\u001b[0m                         Traceback (most recent call last)",
      "\u001b[1;32m/Users/aditya/Documents/repos/ut/MIDI_LLM/test_scripts/detokenize/test_listen.ipynb Cell 7\u001b[0m line \u001b[0;36m3\n\u001b[1;32m      <a href='vscode-notebook-cell:/Users/aditya/Documents/repos/ut/MIDI_LLM/test_scripts/detokenize/test_listen.ipynb#X11sZmlsZQ%3D%3D?line=0'>1</a>\u001b[0m \u001b[39m#Write the reconstructed to a new file and then play it\u001b[39;00m\n\u001b[1;32m      <a href='vscode-notebook-cell:/Users/aditya/Documents/repos/ut/MIDI_LLM/test_scripts/detokenize/test_listen.ipynb#X11sZmlsZQ%3D%3D?line=1'>2</a>\u001b[0m midi_out\u001b[39m.\u001b[39mdump(\u001b[39m\"\u001b[39m\u001b[39mtemp.mid\u001b[39m\u001b[39m\"\u001b[39m)\n\u001b[0;32m----> <a href='vscode-notebook-cell:/Users/aditya/Documents/repos/ut/MIDI_LLM/test_scripts/detokenize/test_listen.ipynb#X11sZmlsZQ%3D%3D?line=2'>3</a>\u001b[0m midi_player\u001b[39m.\u001b[39;49mplay_midi(\u001b[39m\"\u001b[39;49m\u001b[39mtemp.mid\u001b[39;49m\u001b[39m\"\u001b[39;49m)\n",
      "File \u001b[0;32m~/Documents/repos/ut/MIDI_LLM/midi_llm/midi_player.py:23\u001b[0m, in \u001b[0;36mMIDI_Player.play_midi\u001b[0;34m(self, file_path)\u001b[0m\n\u001b[1;32m     21\u001b[0m     pygame\u001b[39m.\u001b[39mmixer\u001b[39m.\u001b[39mmusic\u001b[39m.\u001b[39mplay()\n\u001b[1;32m     22\u001b[0m     \u001b[39mwhile\u001b[39;00m pygame\u001b[39m.\u001b[39mmixer\u001b[39m.\u001b[39mmusic\u001b[39m.\u001b[39mget_busy():\n\u001b[0;32m---> 23\u001b[0m         time\u001b[39m.\u001b[39;49msleep(\u001b[39m1\u001b[39;49m)\n\u001b[1;32m     25\u001b[0m \u001b[39mexcept\u001b[39;00m pygame\u001b[39m.\u001b[39merror \u001b[39mas\u001b[39;00m e:\n\u001b[1;32m     26\u001b[0m     \u001b[39mprint\u001b[39m(\u001b[39mf\u001b[39m\u001b[39m\"\u001b[39m\u001b[39mError playing MIDI file: \u001b[39m\u001b[39m{\u001b[39;00me\u001b[39m}\u001b[39;00m\u001b[39m\"\u001b[39m)\n",
      "\u001b[0;31mKeyboardInterrupt\u001b[0m: "
     ]
    }
   ],
   "source": [
    "#Write the reconstructed to a new file and then play it\n",
    "midi_out.dump(\"temp.mid\")\n",
    "midi_player.play_midi(\"temp.mid\")"
   ]
  },
  {
   "cell_type": "code",
   "execution_count": 33,
   "metadata": {},
   "outputs": [],
   "source": [
    "midi_player.cleanup()"
   ]
  },
  {
   "cell_type": "code",
   "execution_count": null,
   "metadata": {},
   "outputs": [],
   "source": []
  }
 ],
 "metadata": {
  "kernelspec": {
   "display_name": "midi_llm",
   "language": "python",
   "name": "python3"
  },
  "language_info": {
   "codemirror_mode": {
    "name": "ipython",
    "version": 3
   },
   "file_extension": ".py",
   "mimetype": "text/x-python",
   "name": "python",
   "nbconvert_exporter": "python",
   "pygments_lexer": "ipython3",
   "version": "3.12.0"
  }
 },
 "nbformat": 4,
 "nbformat_minor": 2
}
