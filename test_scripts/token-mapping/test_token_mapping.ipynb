{
 "cells": [
  {
   "cell_type": "code",
   "execution_count": 1,
   "metadata": {},
   "outputs": [
    {
     "name": "stderr",
     "output_type": "stream",
     "text": [
      "/Users/aditya/miniconda3/envs/midi_llm/lib/python3.12/site-packages/tqdm/auto.py:21: TqdmWarning: IProgress not found. Please update jupyter and ipywidgets. See https://ipywidgets.readthedocs.io/en/stable/user_install.html\n",
      "  from .autonotebook import tqdm as notebook_tqdm\n",
      "None of PyTorch, TensorFlow >= 2.0, or Flax have been found. Models won't be available and only tokenizers, configuration and file/data utilities can be used.\n"
     ]
    }
   ],
   "source": [
    "from midi_llm import LLM, Llama_Tokenizer, MIDI_Dataset"
   ]
  },
  {
   "cell_type": "code",
   "execution_count": 2,
   "metadata": {},
   "outputs": [
    {
     "name": "stderr",
     "output_type": "stream",
     "text": [
      "WARNING:midi_dataset:Coulding tokenize file ../../bach/wtcbki/fugue6.mid\n",
      "WARNING:midi_dataset:Coulding tokenize file ../../bach/wtcbki/prelude2.mid\n",
      "WARNING:midi_dataset:Coulding tokenize file ../../bach/wtcbki/prelude1.mid\n",
      "WARNING:midi_dataset:Coulding tokenize file ../../bach/wtcbki/fugue12.mid\n",
      "WARNING:midi_dataset:Coulding tokenize file ../../bach/wtcbki/fugue13.mid\n",
      "WARNING:midi_dataset:Coulding tokenize file ../../bach/wtcbki/fugue11.mid\n",
      "WARNING:midi_dataset:Coulding tokenize file ../../bach/wtcbki/fugue15.mid\n",
      "WARNING:midi_dataset:Coulding tokenize file ../../bach/wtcbki/fugue24.mid\n",
      "WARNING:midi_dataset:Coulding tokenize file ../../bach/wtcbki/fugue19.mid\n",
      "WARNING:midi_dataset:Coulding tokenize file ../../bach/wtcbki/fugue8.mid\n"
     ]
    }
   ],
   "source": [
    "#Load the bach dataset\n",
    "midi_dataset = MIDI_Dataset(parent_dir=\"../../bach/\", verbose=0)"
   ]
  },
  {
   "cell_type": "code",
   "execution_count": 3,
   "metadata": {},
   "outputs": [],
   "source": [
    "#Let's take a look at the tokens we get from one track\n",
    "track = midi_dataset[0]"
   ]
  },
  {
   "cell_type": "code",
   "execution_count": 8,
   "metadata": {},
   "outputs": [
    {
     "data": {
      "text/plain": [
       "'����������������������������������������������������������������������������������������������������'"
      ]
     },
     "execution_count": 8,
     "metadata": {},
     "output_type": "execute_result"
    }
   ],
   "source": [
    "#Let's see what pseudo-english we get from this\n",
    "llama_tok = Llama_Tokenizer(\"../../config.yaml\")\n",
    "llama_tok.detokenize(track[0:100])"
   ]
  },
  {
   "cell_type": "code",
   "execution_count": 31,
   "metadata": {},
   "outputs": [
    {
     "data": {
      "text/plain": [
       "(array([4.020e+02, 1.274e+03, 1.370e+02, 0.000e+00, 0.000e+00, 1.813e+03,\n",
       "        0.000e+00, 1.543e+03, 2.490e+02, 2.000e+01, 1.000e+00, 0.000e+00,\n",
       "        0.000e+00, 8.150e+02, 8.540e+02, 2.500e+01, 8.700e+01, 9.000e+00,\n",
       "        4.000e+00, 1.900e+01]),\n",
       " array([ 48. ,  58.2,  68.4,  78.6,  88.8,  99. , 109.2, 119.4, 129.6,\n",
       "        139.8, 150. , 160.2, 170.4, 180.6, 190.8, 201. , 211.2, 221.4,\n",
       "        231.6, 241.8, 252. ]),\n",
       " <BarContainer object of 20 artists>)"
      ]
     },
     "execution_count": 31,
     "metadata": {},
     "output_type": "execute_result"
    },
    {
     "data": {
      "image/png": "[encoded data removed]",
      "text/plain": [
       "<Figure size 640x480 with 1 Axes>"
      ]
     },
     "metadata": {},
     "output_type": "display_data"
    }
   ],
   "source": [
    "import matplotlib.pyplot as plt\n",
    "plt.hist(track, bins=20)"
   ]
  },
  {
   "cell_type": "code",
   "execution_count": 29,
   "metadata": {},
   "outputs": [
    {
     "data": {
      "text/plain": [
       "'batcke ri establishINTinden ri establishINTévrier ri establishINT maj ri establishINT]+ ri establishINT]+ riitunginnencke riitunginnen]+ ri establishINT]+ ri establishINT]+ ri establishINT]+ ri establishINT]+ riadiignment maj riitung suivcke ri establishINTcke riéb msgcke riitunginnencke riéb msgcke riéb msgPassword riitunginnencke riéb msgcke riéb msgcke riitunginnencke riéb msgcke riadiignmentinden riitung'"
      ]
     },
     "execution_count": 29,
     "metadata": {},
     "output_type": "execute_result"
    }
   ],
   "source": [
    "#We evidently need some sort of token-token mapping. Let's try some super simple stuff first\n",
    "llama_tok.detokenize([i + 10000 for i in track[0:100]])"
   ]
  },
  {
   "cell_type": "code",
   "execution_count": null,
   "metadata": {},
   "outputs": [],
   "source": []
  }
 ],
 "metadata": {
  "kernelspec": {
   "display_name": "midi_llm",
   "language": "python",
   "name": "python3"
  },
  "language_info": {
   "codemirror_mode": {
    "name": "ipython",
    "version": 3
   },
   "file_extension": ".py",
   "mimetype": "text/x-python",
   "name": "python",
   "nbconvert_exporter": "python",
   "pygments_lexer": "ipython3",
   "version": "3.12.0"
  }
 },
 "nbformat": 4,
 "nbformat_minor": 2
}
